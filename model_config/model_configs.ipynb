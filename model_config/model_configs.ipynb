{
 "cells": [
  {
   "cell_type": "code",
   "execution_count": 1,
   "id": "94f0107c",
   "metadata": {},
   "outputs": [],
   "source": [
    "import json"
   ]
  },
  {
   "cell_type": "code",
   "execution_count": 2,
   "id": "093f75a3",
   "metadata": {},
   "outputs": [
    {
     "data": {
      "text/plain": [
       "158"
      ]
     },
     "execution_count": 2,
     "metadata": {},
     "output_type": "execute_result"
    }
   ],
   "source": [
    "# random forest using morgan fingerprints\n",
    "config = {\n",
    "    'data_format': 'fingerprints',\n",
    "    'model': 'random_forest',\n",
    "    'fingerprints_class': ['morgan'],\n",
    "    'radius': 2,\n",
    "    'num_bits': 1024\n",
    "}\n",
    "open('RandomForest_Morgan_Config', 'w').write(json.dumps(config, indent=4))"
   ]
  },
  {
   "cell_type": "code",
   "execution_count": 3,
   "id": "d47d00d0",
   "metadata": {},
   "outputs": [
    {
     "data": {
      "text/plain": [
       "234"
      ]
     },
     "execution_count": 3,
     "metadata": {},
     "output_type": "execute_result"
    }
   ],
   "source": [
    "# gpr, dot product kernel, morgan fingerprints\n",
    "config = {\n",
    "    'data_format': 'fingerprints',\n",
    "    'model': 'gaussian_process_regression',\n",
    "    'alpha': 0.01,\n",
    "    'fingerprints_class': ['morgan'],\n",
    "    'radius': 2,\n",
    "    'num_bits': 1024,\n",
    "    'features_kernel_type': 'dot_product'\n",
    "}\n",
    "open('GaussianProcessRegression_DotProductKerneL_Morgan_Config', 'w').write(json.dumps(config, indent=4))"
   ]
  },
  {
   "cell_type": "code",
   "execution_count": 4,
   "id": "6a31bc43",
   "metadata": {},
   "outputs": [
    {
     "data": {
      "text/plain": [
       "225"
      ]
     },
     "execution_count": 4,
     "metadata": {},
     "output_type": "execute_result"
    }
   ],
   "source": [
    "# gpr, rbf kernel, rdkit fingerprints\n",
    "config = {\n",
    "    'data_format': 'fingerprints',\n",
    "    'model': 'gaussian_process_regression',\n",
    "    'alpha': 0.01,\n",
    "    'fingerprints_class': ['rdkit_2d_normalized'],\n",
    "    'features_kernel_type': 'rbf',\n",
    "    'length_scale': 0.2,\n",
    "}\n",
    "open('GaussianProcessRegression_RBFKerneL_RdkitNorm_Config', 'w').write(json.dumps(config, indent=4))"
   ]
  },
  {
   "cell_type": "code",
   "execution_count": 5,
   "id": "18f61c7b",
   "metadata": {},
   "outputs": [
    {
     "data": {
      "text/plain": [
       "219"
      ]
     },
     "execution_count": 5,
     "metadata": {},
     "output_type": "execute_result"
    }
   ],
   "source": [
    "# gpc, dot product kernel, morgan fingerprints\n",
    "config = {\n",
    "    'data_format': 'fingerprints',\n",
    "    'model': 'gaussian_process_classification',\n",
    "    'fingerprints_class': ['morgan'],\n",
    "    'radius': 2,\n",
    "    'num_bits': 1024,\n",
    "    'features_kernel_type': 'dot_product'\n",
    "}\n",
    "open('GaussianProcessClassification_DotProductKerneL_Morgan_Config', 'w').write(json.dumps(config, indent=4))"
   ]
  },
  {
   "cell_type": "code",
   "execution_count": 6,
   "id": "b0dda75c",
   "metadata": {},
   "outputs": [
    {
     "data": {
      "text/plain": [
       "210"
      ]
     },
     "execution_count": 6,
     "metadata": {},
     "output_type": "execute_result"
    }
   ],
   "source": [
    "# gpc, rbf kernel, rdkit fingerprints\n",
    "config = {\n",
    "    'data_format': 'fingerprints',\n",
    "    'model': 'gaussian_process_classification',\n",
    "    'fingerprints_class': ['rdkit_2d_normalized'],\n",
    "    'features_kernel_type': 'rbf',\n",
    "    'length_scale': 0.2,\n",
    "}\n",
    "open('GaussianProcessClassification_RBFKerneL_RdkitNorm_Config', 'w').write(json.dumps(config, indent=4))"
   ]
  },
  {
   "cell_type": "code",
   "execution_count": 7,
   "id": "40c80f35",
   "metadata": {},
   "outputs": [
    {
     "data": {
      "text/plain": [
       "224"
      ]
     },
     "execution_count": 7,
     "metadata": {},
     "output_type": "execute_result"
    }
   ],
   "source": [
    "# svm, dot product kernel, morgan fingerprints\n",
    "config = {\n",
    "    'data_format': 'fingerprints',\n",
    "    'model': 'support_vector_machine',\n",
    "    'C': 1.0,\n",
    "    'fingerprints_class': ['morgan'],\n",
    "    'radius': 2,\n",
    "    'num_bits': 1024,\n",
    "    'features_kernel_type': 'dot_product'\n",
    "}\n",
    "open('SupportVectorMachine_DotProductKerneL_Morgan_Config', 'w').write(json.dumps(config, indent=4))"
   ]
  },
  {
   "cell_type": "code",
   "execution_count": 8,
   "id": "254f62f7",
   "metadata": {},
   "outputs": [
    {
     "data": {
      "text/plain": [
       "215"
      ]
     },
     "execution_count": 8,
     "metadata": {},
     "output_type": "execute_result"
    }
   ],
   "source": [
    "# svm, rbf kernel, rdkit fingerprints\n",
    "config = {\n",
    "    'data_format': 'fingerprints',\n",
    "    'model': 'support_vector_machine',\n",
    "    'C': 1.0,\n",
    "    'fingerprints_class': ['rdkit_2d_normalized'],\n",
    "    'features_kernel_type': 'rbf',\n",
    "    'length_scale': 0.2,\n",
    "}\n",
    "open('SupportVectorMachine_RBFKerneL_RdkitNorm_Config', 'w').write(json.dumps(config, indent=4))"
   ]
  },
  {
   "cell_type": "code",
   "execution_count": 9,
   "id": "c010feee",
   "metadata": {},
   "outputs": [
    {
     "data": {
      "text/plain": [
       "333"
      ]
     },
     "execution_count": 9,
     "metadata": {},
     "output_type": "execute_result"
    }
   ],
   "source": [
    "# multi layer perceptron for binary classification\n",
    "config = {\n",
    "    'data_format': 'chemprop',\n",
    "    'loss_function': 'binary_cross_entropy',\n",
    "    'features_only': True,\n",
    "    'epochs': 30,\n",
    "    'ffn_num_layers': 2,\n",
    "    'ffn_hidden_size': 300,\n",
    "    'dropout': 0.0,\n",
    "    'batch_size': 50,\n",
    "    'ensemble_size': 1,\n",
    "    'fingerprints_class': ['morgan'],\n",
    "    'radius': 2,\n",
    "    'num_bits': 1024\n",
    "}\n",
    "open('MLP_BinaryClassification_Morgan_Config', 'w').write(json.dumps(config, indent=4))"
   ]
  },
  {
   "cell_type": "code",
   "execution_count": 10,
   "id": "333c5b52",
   "metadata": {},
   "outputs": [
    {
     "data": {
      "text/plain": [
       "255"
      ]
     },
     "execution_count": 10,
     "metadata": {},
     "output_type": "execute_result"
    }
   ],
   "source": [
    "# D-MPNN for binary classification\n",
    "config = {\n",
    "    'data_format': 'chemprop',\n",
    "    'loss_function': 'binary_cross_entropy',\n",
    "    #'features_only': True,\n",
    "    'epochs': 30,\n",
    "    'depth': 3,\n",
    "    'hidden_size': 300,\n",
    "    'ffn_num_layers': 2,\n",
    "    'ffn_hidden_size': 300,\n",
    "    'dropout': 0.0,\n",
    "    'batch_size': 50,\n",
    "    'ensemble_size': 1,\n",
    "    #'fingerprints_class': ['morgan'],\n",
    "    #'radius': 2,\n",
    "    #'num_bits': 1024\n",
    "}\n",
    "open('DMPNN_BinaryClassification_Config', 'w').write(json.dumps(config, indent=4))"
   ]
  },
  {
   "cell_type": "code",
   "execution_count": 11,
   "id": "2e6e96ff",
   "metadata": {},
   "outputs": [
    {
     "data": {
      "text/plain": [
       "348"
      ]
     },
     "execution_count": 11,
     "metadata": {},
     "output_type": "execute_result"
    }
   ],
   "source": [
    "# D-MPNN + rdkit features for binary classification\n",
    "config = {\n",
    "    'data_format': 'chemprop',\n",
    "    'loss_function': 'binary_cross_entropy',\n",
    "    #'features_only': True,\n",
    "    'epochs': 30,\n",
    "    'depth': 3,\n",
    "    'hidden_size': 300,\n",
    "    'ffn_num_layers': 2,\n",
    "    'ffn_hidden_size': 300,\n",
    "    'dropout': 0.0,\n",
    "    'batch_size': 50,\n",
    "    'ensemble_size': 1,\n",
    "    'fingerprints_class': ['rdkit_2d'],\n",
    "    'radius': 2,\n",
    "    'num_bits': 1024\n",
    "}\n",
    "open('DMPNN_RDKIT_BinaryClassification_Config', 'w').write(json.dumps(config, indent=4))"
   ]
  },
  {
   "cell_type": "code",
   "execution_count": 12,
   "id": "fbfed6d8",
   "metadata": {},
   "outputs": [
    {
     "data": {
      "text/plain": [
       "193"
      ]
     },
     "execution_count": 12,
     "metadata": {},
     "output_type": "execute_result"
    }
   ],
   "source": [
    "# gpr, marginalized graph kernel\n",
    "config = {\n",
    "    'data_format': 'mgktools',\n",
    "    'model': 'gaussian_process_regression',\n",
    "    'alpha': 0.01,\n",
    "    'graph_kernel_type': 'pre-computed',\n",
    "    'mgk_files': ['product-msnorm.json'],\n",
    "}\n",
    "open('GaussianProcessRegression_MarginalizedGraphKerneL_Config', 'w').write(json.dumps(config, indent=4))"
   ]
  },
  {
   "cell_type": "code",
   "execution_count": null,
   "id": "c59bfe4a",
   "metadata": {},
   "outputs": [],
   "source": []
  },
  {
   "cell_type": "code",
   "execution_count": null,
   "id": "b12b2e5b",
   "metadata": {},
   "outputs": [],
   "source": []
  }
 ],
 "metadata": {
  "kernelspec": {
   "display_name": "graph_attribution",
   "language": "python",
   "name": "graph_attribution"
  },
  "language_info": {
   "codemirror_mode": {
    "name": "ipython",
    "version": 3
   },
   "file_extension": ".py",
   "mimetype": "text/x-python",
   "name": "python",
   "nbconvert_exporter": "python",
   "pygments_lexer": "ipython3",
   "version": "3.10.4"
  }
 },
 "nbformat": 4,
 "nbformat_minor": 5
}
