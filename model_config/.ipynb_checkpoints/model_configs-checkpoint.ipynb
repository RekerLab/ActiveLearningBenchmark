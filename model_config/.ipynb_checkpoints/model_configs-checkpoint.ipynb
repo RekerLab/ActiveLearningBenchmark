{
 "cells": [
  {
   "cell_type": "code",
   "execution_count": 1,
   "id": "94f0107c",
   "metadata": {},
   "outputs": [],
   "source": [
    "import json"
   ]
  },
  {
   "cell_type": "code",
   "execution_count": 5,
   "id": "093f75a3",
   "metadata": {},
   "outputs": [
    {
     "data": {
      "text/plain": [
       "158"
      ]
     },
     "execution_count": 5,
     "metadata": {},
     "output_type": "execute_result"
    }
   ],
   "source": [
    "# random forest using morgan fingerprints\n",
    "for s in [None, 'concat', 'mean']:\n",
    "    config = {\n",
    "        'data_format': 'fingerprints',\n",
    "        'model': 'random_forest',\n",
    "        'fingerprints_class': ['morgan'],\n",
    "        'radius': 2,\n",
    "        'num_bits': 1024\n",
    "    }\n",
    "    if s is not None:\n",
    "        config['features_combination'] = s\n",
    "        open('RandomForest_Morgan_Config_%', 'w').write(json.dumps(config, indent=4))"
   ]
  },
  {
   "cell_type": "code",
   "execution_count": 6,
   "id": "0400117e",
   "metadata": {},
   "outputs": [
    {
     "data": {
      "text/plain": [
       "164"
      ]
     },
     "execution_count": 6,
     "metadata": {},
     "output_type": "execute_result"
    }
   ],
   "source": [
    "# random forest using morgan fingerprints\n",
    "config = {\n",
    "    'data_format': 'fingerprints',\n",
    "    'model': 'logistic_regression',\n",
    "    'fingerprints_class': ['morgan'],\n",
    "    'radius': 2,\n",
    "    'num_bits': 1024\n",
    "}\n",
    "open('LogisticRegression_Morgan_Config', 'w').write(json.dumps(config, indent=4))"
   ]
  },
  {
   "cell_type": "code",
   "execution_count": 20,
   "id": "d47d00d0",
   "metadata": {},
   "outputs": [
    {
     "data": {
      "text/plain": [
       "304"
      ]
     },
     "execution_count": 20,
     "metadata": {},
     "output_type": "execute_result"
    }
   ],
   "source": [
    "# gpr, dot product kernel, morgan fingerprints. Use predicted value as uncertainty, only for classification.\n",
    "config = {\n",
    "    'data_format': 'fingerprints',\n",
    "    'model': 'gaussian_process_regression',\n",
    "    'alpha': 0.01,\n",
    "    'fingerprints_class': ['morgan'],\n",
    "    'radius': 2,\n",
    "    'num_bits': 1024,\n",
    "    'features_kernel_type': 'dot_product',\n",
    "    'features_hyperparameters': 1.0,\n",
    "    'uncertainty_type': 'value',\n",
    "}\n",
    "open('GaussianProcessRegressionValue_DotProductKernel_Morgan_Config', 'w').write(json.dumps(config, indent=4))"
   ]
  },
  {
   "cell_type": "code",
   "execution_count": 21,
   "id": "b607f1e8",
   "metadata": {},
   "outputs": [
    {
     "data": {
      "text/plain": [
       "310"
      ]
     },
     "execution_count": 21,
     "metadata": {},
     "output_type": "execute_result"
    }
   ],
   "source": [
    "# gpr, dot product kernel, morgan fingerprints. \n",
    "# Use posterior uncertainty as uncertainty, valid for classification and regression.\n",
    "config = {\n",
    "    'data_format': 'fingerprints',\n",
    "    'model': 'gaussian_process_regression',\n",
    "    'alpha': 0.01,\n",
    "    'fingerprints_class': ['morgan'],\n",
    "    'radius': 2,\n",
    "    'num_bits': 1024,\n",
    "    'features_kernel_type': 'dot_product',\n",
    "        'features_hyperparameters': 1.0,\n",
    "    'uncertainty_type': 'uncertainty',\n",
    "}\n",
    "open('GaussianProcessRegressionUncertainty_DotProductKernel_Morgan_Config', 'w').write(json.dumps(config, indent=4))"
   ]
  },
  {
   "cell_type": "code",
   "execution_count": 9,
   "id": "6a31bc43",
   "metadata": {},
   "outputs": [
    {
     "data": {
      "text/plain": [
       "270"
      ]
     },
     "execution_count": 9,
     "metadata": {},
     "output_type": "execute_result"
    }
   ],
   "source": [
    "# gpr, rbf kernel, rdkit fingerprints\n",
    "config = {\n",
    "    'data_format': 'fingerprints',\n",
    "    'model': 'gaussian_process_regression',\n",
    "    'alpha': 0.01,\n",
    "    'fingerprints_class': ['rdkit_2d_normalized'],\n",
    "    'features_kernel_type': 'rbf',\n",
    "    'features_hyperparameters': 0.2,\n",
    "    'uncertainty_type': 'value',\n",
    "}\n",
    "open('GaussianProcessRegressionValue_RBFKernel_RdkitNorm_Config', 'w').write(json.dumps(config, indent=4))"
   ]
  },
  {
   "cell_type": "code",
   "execution_count": 24,
   "id": "8dda4f41",
   "metadata": {},
   "outputs": [
    {
     "data": {
      "text/plain": [
       "276"
      ]
     },
     "execution_count": 24,
     "metadata": {},
     "output_type": "execute_result"
    }
   ],
   "source": [
    "# gpr, rbf kernel, rdkit fingerprints\n",
    "config = {\n",
    "    'data_format': 'fingerprints',\n",
    "    'model': 'gaussian_process_regression',\n",
    "    'alpha': 0.01,\n",
    "    'fingerprints_class': ['rdkit_2d_normalized'],\n",
    "    'features_kernel_type': 'rbf',\n",
    "    'features_hyperparameters': 0.2,\n",
    "    'uncertainty_type': 'uncertainty',\n",
    "}\n",
    "open('GaussianProcessRegressionUncertainty_RBFKernel_RdkitNorm_Config', 'w').write(json.dumps(config, indent=4))"
   ]
  },
  {
   "cell_type": "code",
   "execution_count": 22,
   "id": "18f61c7b",
   "metadata": {},
   "outputs": [
    {
     "data": {
      "text/plain": [
       "256"
      ]
     },
     "execution_count": 22,
     "metadata": {},
     "output_type": "execute_result"
    }
   ],
   "source": [
    "# gpc, dot product kernel, morgan fingerprints\n",
    "config = {\n",
    "    'data_format': 'fingerprints',\n",
    "    'model': 'gaussian_process_classification',\n",
    "    'fingerprints_class': ['morgan'],\n",
    "    'radius': 2,\n",
    "    'num_bits': 1024,\n",
    "    'features_kernel_type': 'dot_product',\n",
    "    'features_hyperparameters': 1.0,\n",
    "}\n",
    "open('GaussianProcessClassification_DotProductKernel_Morgan_Config', 'w').write(json.dumps(config, indent=4))"
   ]
  },
  {
   "cell_type": "code",
   "execution_count": 12,
   "id": "b0dda75c",
   "metadata": {},
   "outputs": [
    {
     "data": {
      "text/plain": [
       "222"
      ]
     },
     "execution_count": 12,
     "metadata": {},
     "output_type": "execute_result"
    }
   ],
   "source": [
    "# gpc, rbf kernel, rdkit fingerprints\n",
    "config = {\n",
    "    'data_format': 'fingerprints',\n",
    "    'model': 'gaussian_process_classification',\n",
    "    'fingerprints_class': ['rdkit_2d_normalized'],\n",
    "    'features_kernel_type': 'rbf',\n",
    "    'features_hyperparameters': 0.2,\n",
    "}\n",
    "open('GaussianProcessClassification_RBFKernel_RdkitNorm_Config', 'w').write(json.dumps(config, indent=4))"
   ]
  },
  {
   "cell_type": "code",
   "execution_count": 13,
   "id": "40c80f35",
   "metadata": {},
   "outputs": [
    {
     "data": {
      "text/plain": [
       "224"
      ]
     },
     "execution_count": 13,
     "metadata": {},
     "output_type": "execute_result"
    }
   ],
   "source": [
    "# svm, dot product kernel, morgan fingerprints\n",
    "config = {\n",
    "    'data_format': 'fingerprints',\n",
    "    'model': 'support_vector_machine',\n",
    "    'C': 1.0,\n",
    "    'fingerprints_class': ['morgan'],\n",
    "    'radius': 2,\n",
    "    'num_bits': 1024,\n",
    "    'features_kernel_type': 'dot_product'\n",
    "}\n",
    "open('SupportVectorMachine_DotProductKernel_Morgan_Config', 'w').write(json.dumps(config, indent=4))"
   ]
  },
  {
   "cell_type": "code",
   "execution_count": 14,
   "id": "254f62f7",
   "metadata": {},
   "outputs": [
    {
     "data": {
      "text/plain": [
       "227"
      ]
     },
     "execution_count": 14,
     "metadata": {},
     "output_type": "execute_result"
    }
   ],
   "source": [
    "# svm, rbf kernel, rdkit fingerprints\n",
    "config = {\n",
    "    'data_format': 'fingerprints',\n",
    "    'model': 'support_vector_machine',\n",
    "    'C': 1.0,\n",
    "    'fingerprints_class': ['rdkit_2d_normalized'],\n",
    "    'features_kernel_type': 'rbf',\n",
    "    'features_hyperparameters': 0.2,\n",
    "}\n",
    "open('SupportVectorMachine_RBFKernel_RdkitNorm_Config', 'w').write(json.dumps(config, indent=4))"
   ]
  },
  {
   "cell_type": "code",
   "execution_count": 15,
   "id": "c010feee",
   "metadata": {},
   "outputs": [
    {
     "data": {
      "text/plain": [
       "334"
      ]
     },
     "execution_count": 15,
     "metadata": {},
     "output_type": "execute_result"
    }
   ],
   "source": [
    "# multi layer perceptron for binary classification\n",
    "config = {\n",
    "    'data_format': 'chemprop',\n",
    "    'loss_function': 'binary_cross_entropy',\n",
    "    'features_only': True,\n",
    "    'epochs': 100,\n",
    "    'ffn_num_layers': 2,\n",
    "    'ffn_hidden_size': 300,\n",
    "    'dropout': 0.0,\n",
    "    'batch_size': 50,\n",
    "    'ensemble_size': 1,\n",
    "    'fingerprints_class': ['morgan'],\n",
    "    'radius': 2,\n",
    "    'num_bits': 1024\n",
    "}\n",
    "open('MLP_BinaryClassification_Morgan_Config', 'w').write(json.dumps(config, indent=4))"
   ]
  },
  {
   "cell_type": "code",
   "execution_count": 16,
   "id": "26012b14",
   "metadata": {},
   "outputs": [
    {
     "data": {
      "text/plain": [
       "317"
      ]
     },
     "execution_count": 16,
     "metadata": {},
     "output_type": "execute_result"
    }
   ],
   "source": [
    "# multi layer perceptron for regression\n",
    "config = {\n",
    "    'data_format': 'chemprop',\n",
    "    'loss_function': 'mve',\n",
    "    'features_only': True,\n",
    "    'epochs': 100,\n",
    "    'ffn_num_layers': 2,\n",
    "    'ffn_hidden_size': 300,\n",
    "    'dropout': 0.0,\n",
    "    'batch_size': 50,\n",
    "    'ensemble_size': 1,\n",
    "    'fingerprints_class': ['morgan'],\n",
    "    'radius': 2,\n",
    "    'num_bits': 1024\n",
    "}\n",
    "open('MLP_Regression_MVE_Morgan_Config', 'w').write(json.dumps(config, indent=4))"
   ]
  },
  {
   "cell_type": "code",
   "execution_count": 17,
   "id": "46f2e3cf",
   "metadata": {},
   "outputs": [
    {
     "data": {
      "text/plain": [
       "324"
      ]
     },
     "execution_count": 17,
     "metadata": {},
     "output_type": "execute_result"
    }
   ],
   "source": [
    "# multi layer perceptron for regression\n",
    "config = {\n",
    "    'data_format': 'chemprop',\n",
    "    'loss_function': 'evidential',\n",
    "    'features_only': True,\n",
    "    'epochs': 100,\n",
    "    'ffn_num_layers': 2,\n",
    "    'ffn_hidden_size': 300,\n",
    "    'dropout': 0.0,\n",
    "    'batch_size': 50,\n",
    "    'ensemble_size': 1,\n",
    "    'fingerprints_class': ['morgan'],\n",
    "    'radius': 2,\n",
    "    'num_bits': 1024\n",
    "}\n",
    "open('MLP_Regression_Evidential_Morgan_Config', 'w').write(json.dumps(config, indent=4))"
   ]
  },
  {
   "cell_type": "code",
   "execution_count": 18,
   "id": "333c5b52",
   "metadata": {},
   "outputs": [
    {
     "data": {
      "text/plain": [
       "256"
      ]
     },
     "execution_count": 18,
     "metadata": {},
     "output_type": "execute_result"
    }
   ],
   "source": [
    "# D-MPNN for binary classification\n",
    "config = {\n",
    "    'data_format': 'chemprop',\n",
    "    'loss_function': 'binary_cross_entropy',\n",
    "    #'features_only': True,\n",
    "    'epochs': 100,\n",
    "    'depth': 3,\n",
    "    'hidden_size': 300,\n",
    "    'ffn_num_layers': 2,\n",
    "    'ffn_hidden_size': 300,\n",
    "    'dropout': 0.0,\n",
    "    'batch_size': 50,\n",
    "    'ensemble_size': 1,\n",
    "    #'fingerprints_class': ['morgan'],\n",
    "    #'radius': 2,\n",
    "    #'num_bits': 1024\n",
    "}\n",
    "open('DMPNN_BinaryClassification_Config', 'w').write(json.dumps(config, indent=4))"
   ]
  },
  {
   "cell_type": "code",
   "execution_count": 15,
   "id": "d6ab2bde",
   "metadata": {},
   "outputs": [
    {
     "data": {
      "text/plain": [
       "239"
      ]
     },
     "execution_count": 15,
     "metadata": {},
     "output_type": "execute_result"
    }
   ],
   "source": [
    "# D-MPNN for binary classification\n",
    "config = {\n",
    "    'data_format': 'chemprop',\n",
    "    'loss_function': 'mve',\n",
    "    #'features_only': True,\n",
    "    'epochs': 100,\n",
    "    'depth': 3,\n",
    "    'hidden_size': 300,\n",
    "    'ffn_num_layers': 2,\n",
    "    'ffn_hidden_size': 300,\n",
    "    'dropout': 0.0,\n",
    "    'batch_size': 50,\n",
    "    'ensemble_size': 1,\n",
    "    #'fingerprints_class': ['morgan'],\n",
    "    #'radius': 2,\n",
    "    #'num_bits': 1024\n",
    "}\n",
    "open('DMPNN_Regression_MVE_Config', 'w').write(json.dumps(config, indent=4))"
   ]
  },
  {
   "cell_type": "code",
   "execution_count": 16,
   "id": "5b0a75bd",
   "metadata": {},
   "outputs": [
    {
     "data": {
      "text/plain": [
       "246"
      ]
     },
     "execution_count": 16,
     "metadata": {},
     "output_type": "execute_result"
    }
   ],
   "source": [
    "# D-MPNN for binary classification\n",
    "config = {\n",
    "    'data_format': 'chemprop',\n",
    "    'loss_function': 'evidential',\n",
    "    #'features_only': True,\n",
    "    'epochs': 100,\n",
    "    'depth': 3,\n",
    "    'hidden_size': 300,\n",
    "    'ffn_num_layers': 2,\n",
    "    'ffn_hidden_size': 300,\n",
    "    'dropout': 0.0,\n",
    "    'batch_size': 50,\n",
    "    'ensemble_size': 1,\n",
    "    #'fingerprints_class': ['morgan'],\n",
    "    #'radius': 2,\n",
    "    #'num_bits': 1024\n",
    "}\n",
    "open('DMPNN_Regression_Evidential_Config', 'w').write(json.dumps(config, indent=4))"
   ]
  },
  {
   "cell_type": "code",
   "execution_count": 17,
   "id": "2e6e96ff",
   "metadata": {},
   "outputs": [
    {
     "data": {
      "text/plain": [
       "310"
      ]
     },
     "execution_count": 17,
     "metadata": {},
     "output_type": "execute_result"
    }
   ],
   "source": [
    "# D-MPNN + rdkit features for binary classification\n",
    "config = {\n",
    "    'data_format': 'chemprop',\n",
    "    'loss_function': 'binary_cross_entropy',\n",
    "    #'features_only': True,\n",
    "    'epochs': 100,\n",
    "    'depth': 3,\n",
    "    'hidden_size': 300,\n",
    "    'ffn_num_layers': 2,\n",
    "    'ffn_hidden_size': 300,\n",
    "    'dropout': 0.0,\n",
    "    'batch_size': 50,\n",
    "    'ensemble_size': 1,\n",
    "    'fingerprints_class': ['rdkit_2d'],\n",
    "}\n",
    "open('DMPNN_RDKIT_BinaryClassification_Config', 'w').write(json.dumps(config, indent=4))"
   ]
  },
  {
   "cell_type": "code",
   "execution_count": 18,
   "id": "ef3baf3a",
   "metadata": {},
   "outputs": [
    {
     "data": {
      "text/plain": [
       "293"
      ]
     },
     "execution_count": 18,
     "metadata": {},
     "output_type": "execute_result"
    }
   ],
   "source": [
    "# D-MPNN + rdkit features for regression\n",
    "config = {\n",
    "    'data_format': 'chemprop',\n",
    "    'loss_function': 'mve',\n",
    "    #'features_only': True,\n",
    "    'epochs': 100,\n",
    "    'depth': 3,\n",
    "    'hidden_size': 300,\n",
    "    'ffn_num_layers': 2,\n",
    "    'ffn_hidden_size': 300,\n",
    "    'dropout': 0.0,\n",
    "    'batch_size': 50,\n",
    "    'ensemble_size': 1,\n",
    "    'fingerprints_class': ['rdkit_2d'],\n",
    "}\n",
    "open('DMPNN_RDKIT_Regression_MVE_Config', 'w').write(json.dumps(config, indent=4))"
   ]
  },
  {
   "cell_type": "code",
   "execution_count": 19,
   "id": "f1bfabea",
   "metadata": {},
   "outputs": [
    {
     "data": {
      "text/plain": [
       "300"
      ]
     },
     "execution_count": 19,
     "metadata": {},
     "output_type": "execute_result"
    }
   ],
   "source": [
    "# D-MPNN + rdkit features for regression\n",
    "config = {\n",
    "    'data_format': 'chemprop',\n",
    "    'loss_function': 'evidential',\n",
    "    #'features_only': True,\n",
    "    'epochs': 100,\n",
    "    'depth': 3,\n",
    "    'hidden_size': 300,\n",
    "    'ffn_num_layers': 2,\n",
    "    'ffn_hidden_size': 300,\n",
    "    'dropout': 0.0,\n",
    "    'batch_size': 50,\n",
    "    'ensemble_size': 1,\n",
    "    'fingerprints_class': ['rdkit_2d'],\n",
    "}\n",
    "open('DMPNN_RDKIT_Regression_Evidential_Config', 'w').write(json.dumps(config, indent=4))"
   ]
  },
  {
   "cell_type": "code",
   "execution_count": 3,
   "id": "1b08fbb4",
   "metadata": {},
   "outputs": [
    {
     "data": {
      "text/plain": [
       "207"
      ]
     },
     "execution_count": 3,
     "metadata": {},
     "output_type": "execute_result"
    }
   ],
   "source": [
    "# gpc, marginalized graph kernel.\n",
    "config = {\n",
    "    'data_format': 'mgktools',\n",
    "    'model': 'gaussian_process_classification',\n",
    "    'graph_kernel_type': 'pre-computed',\n",
    "    'mgk_files': ['model_config/hyperparameters/product-msnorm.json'],\n",
    "}\n",
    "open('GaussianProcessClassification_MarginalizedGraphKernel_Config', 'w').write(json.dumps(config, indent=4))"
   ]
  },
  {
   "cell_type": "code",
   "execution_count": 14,
   "id": "9020ae64",
   "metadata": {},
   "outputs": [
    {
     "data": {
      "text/plain": [
       "267"
      ]
     },
     "execution_count": 14,
     "metadata": {},
     "output_type": "execute_result"
    }
   ],
   "source": [
    "# gpc, marginalized graph kernel.\n",
    "config = {\n",
    "    'data_format': 'mgktools',\n",
    "    'model': 'gaussian_process_classification',\n",
    "    'graph_kernel_type': 'pre-computed',\n",
    "    'mgk_files': ['model_config/hyperparameters/product-msnorm.json', \n",
    "                  'model_config/hyperparameters/product-msnorm.json'],\n",
    "}\n",
    "open('GaussianProcessClassification_MarginalizedGraphKernel2_Config', 'w').write(json.dumps(config, indent=4))"
   ]
  },
  {
   "cell_type": "code",
   "execution_count": 11,
   "id": "7b5ba6ee",
   "metadata": {},
   "outputs": [
    {
     "data": {
      "text/plain": [
       "360"
      ]
     },
     "execution_count": 11,
     "metadata": {},
     "output_type": "execute_result"
    }
   ],
   "source": [
    "# gpc, marginalized graph kernel.\n",
    "config = {\n",
    "    'data_format': 'mgktools',\n",
    "    'model': 'gaussian_process_classification',\n",
    "    'graph_kernel_type': 'pre-computed',\n",
    "    'mgk_files': ['model_config/hyperparameters/product-msnorm.json'],\n",
    "    'fingerprints_class': ['rdkit_2d_normalized'],\n",
    "    'features_kernel_type': 'rbf',\n",
    "    'features_hyperparameters': [0.5],\n",
    "}\n",
    "open('GaussianProcessClassification_MarginalizedGraphKernel_RBFKernel_RdkitNorm_Config', 'w').write(json.dumps(config, indent=4))"
   ]
  },
  {
   "cell_type": "code",
   "execution_count": 16,
   "id": "e0db8c9a",
   "metadata": {},
   "outputs": [
    {
     "data": {
      "text/plain": [
       "420"
      ]
     },
     "execution_count": 16,
     "metadata": {},
     "output_type": "execute_result"
    }
   ],
   "source": [
    "# gpc, marginalized graph kernel.\n",
    "config = {\n",
    "    'data_format': 'mgktools',\n",
    "    'model': 'gaussian_process_classification',\n",
    "    'graph_kernel_type': 'pre-computed',\n",
    "    'mgk_files': ['model_config/hyperparameters/product-msnorm.json',\n",
    "                  'model_config/hyperparameters/product-msnorm.json'],\n",
    "    'fingerprints_class': ['rdkit_2d_normalized'],\n",
    "    'features_kernel_type': 'rbf',\n",
    "    'features_hyperparameters': [0.5],\n",
    "}\n",
    "open('GaussianProcessClassification_MarginalizedGraphKernel2_RBFKernel_RdkitNorm_Config', 'w').write(json.dumps(config, indent=4))"
   ]
  },
  {
   "cell_type": "code",
   "execution_count": 12,
   "id": "0bc1e96a",
   "metadata": {},
   "outputs": [
    {
     "data": {
      "text/plain": [
       "386"
      ]
     },
     "execution_count": 12,
     "metadata": {},
     "output_type": "execute_result"
    }
   ],
   "source": [
    "# gpc, marginalized graph kernel.\n",
    "config = {\n",
    "    'data_format': 'mgktools',\n",
    "    'model': 'gaussian_process_classification',\n",
    "    'graph_kernel_type': 'pre-computed',\n",
    "    'mgk_files': ['model_config/hyperparameters/product-msnorm.json'],\n",
    "    'fingerprints_class': ['morgan'],\n",
    "    'radius': 2,\n",
    "    'num_bits': 1024,\n",
    "    'features_kernel_type': 'rbf',\n",
    "    'features_hyperparameters': [0.5],\n",
    "}\n",
    "open('GaussianProcessClassification_MarginalizedGraphKernel_DotProductKernel_Morgan_Config', 'w').write(json.dumps(config, indent=4))"
   ]
  },
  {
   "cell_type": "code",
   "execution_count": 15,
   "id": "746d559e",
   "metadata": {},
   "outputs": [
    {
     "data": {
      "text/plain": [
       "446"
      ]
     },
     "execution_count": 15,
     "metadata": {},
     "output_type": "execute_result"
    }
   ],
   "source": [
    "# gpc, marginalized graph kernel.\n",
    "config = {\n",
    "    'data_format': 'mgktools',\n",
    "    'model': 'gaussian_process_classification',\n",
    "    'graph_kernel_type': 'pre-computed',\n",
    "    'mgk_files': ['model_config/hyperparameters/product-msnorm.json',\n",
    "                  'model_config/hyperparameters/product-msnorm.json'],\n",
    "    'fingerprints_class': ['morgan'],\n",
    "    'radius': 2,\n",
    "    'num_bits': 1024,\n",
    "    'features_kernel_type': 'rbf',\n",
    "    'features_hyperparameters': [0.5],\n",
    "}\n",
    "open('GaussianProcessClassification_MarginalizedGraphKernel2_DotProductKernel_Morgan_Config', 'w').write(json.dumps(config, indent=4))"
   ]
  },
  {
   "cell_type": "code",
   "execution_count": 6,
   "id": "fbfed6d8",
   "metadata": {},
   "outputs": [
    {
     "data": {
      "text/plain": [
       "255"
      ]
     },
     "execution_count": 6,
     "metadata": {},
     "output_type": "execute_result"
    }
   ],
   "source": [
    "# gpr, marginalized graph kernel.\n",
    "config = {\n",
    "    'data_format': 'mgktools',\n",
    "    'model': 'gaussian_process_regression',\n",
    "    'alpha': 0.01,\n",
    "    'graph_kernel_type': 'pre-computed',\n",
    "    'mgk_files': ['model_config/hyperparameters/product-msnorm.json'],\n",
    "    'uncertainty_type': 'value',\n",
    "}\n",
    "open('GaussianProcessRegressionValue_MarginalizedGraphKernel_Config', 'w').write(json.dumps(config, indent=4))"
   ]
  },
  {
   "cell_type": "code",
   "execution_count": 17,
   "id": "3f79b328",
   "metadata": {},
   "outputs": [
    {
     "data": {
      "text/plain": [
       "315"
      ]
     },
     "execution_count": 17,
     "metadata": {},
     "output_type": "execute_result"
    }
   ],
   "source": [
    "# gpr, marginalized graph kernel.\n",
    "config = {\n",
    "    'data_format': 'mgktools',\n",
    "    'model': 'gaussian_process_regression',\n",
    "    'alpha': 0.01,\n",
    "    'graph_kernel_type': 'pre-computed',\n",
    "    'mgk_files': ['model_config/hyperparameters/product-msnorm.json',\n",
    "                  'model_config/hyperparameters/product-msnorm.json'],\n",
    "    'uncertainty_type': 'value',\n",
    "}\n",
    "open('GaussianProcessRegressionValue_MarginalizedGraphKernel2_Config', 'w').write(json.dumps(config, indent=4))"
   ]
  },
  {
   "cell_type": "code",
   "execution_count": 7,
   "id": "b12b2e5b",
   "metadata": {},
   "outputs": [
    {
     "data": {
      "text/plain": [
       "261"
      ]
     },
     "execution_count": 7,
     "metadata": {},
     "output_type": "execute_result"
    }
   ],
   "source": [
    "# gpr, marginalized graph kernel.\n",
    "config = {\n",
    "    'data_format': 'mgktools',\n",
    "    'model': 'gaussian_process_regression',\n",
    "    'alpha': 0.01,\n",
    "    'graph_kernel_type': 'pre-computed',\n",
    "    'mgk_files': ['model_config/hyperparameters/product-msnorm.json'],\n",
    "    'uncertainty_type': 'uncertainty',\n",
    "}\n",
    "open('GaussianProcessRegressionUncertainty_MarginalizedGraphKernel_Config', 'w').write(json.dumps(config, indent=4))"
   ]
  },
  {
   "cell_type": "code",
   "execution_count": 18,
   "id": "e5037303",
   "metadata": {},
   "outputs": [
    {
     "data": {
      "text/plain": [
       "321"
      ]
     },
     "execution_count": 18,
     "metadata": {},
     "output_type": "execute_result"
    }
   ],
   "source": [
    "# gpr, marginalized graph kernel.\n",
    "config = {\n",
    "    'data_format': 'mgktools',\n",
    "    'model': 'gaussian_process_regression',\n",
    "    'alpha': 0.01,\n",
    "    'graph_kernel_type': 'pre-computed',\n",
    "    'mgk_files': ['model_config/hyperparameters/product-msnorm.json',\n",
    "                  'model_config/hyperparameters/product-msnorm.json'],\n",
    "    'uncertainty_type': 'uncertainty',\n",
    "}\n",
    "open('GaussianProcessRegressionUncertainty_MarginalizedGraphKernel2_Config', 'w').write(json.dumps(config, indent=4))"
   ]
  },
  {
   "cell_type": "code",
   "execution_count": null,
   "id": "ad871893",
   "metadata": {},
   "outputs": [],
   "source": []
  }
 ],
 "metadata": {
  "kernelspec": {
   "display_name": "graph_attribution",
   "language": "python",
   "name": "graph_attribution"
  },
  "language_info": {
   "codemirror_mode": {
    "name": "ipython",
    "version": 3
   },
   "file_extension": ".py",
   "mimetype": "text/x-python",
   "name": "python",
   "nbconvert_exporter": "python",
   "pygments_lexer": "ipython3",
   "version": "3.10.4"
  }
 },
 "nbformat": 4,
 "nbformat_minor": 5
}
